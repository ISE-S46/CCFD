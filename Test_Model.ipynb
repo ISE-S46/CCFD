{
 "cells": [
  {
   "cell_type": "code",
   "execution_count": 1,
   "id": "82afeecb-3a04-4621-aa1b-fa1f996f99dc",
   "metadata": {},
   "outputs": [],
   "source": [
    "from pyspark.sql import SparkSession\n",
    "from pyspark.ml.classification import GBTClassificationModel\n",
    "\n",
    "# Initialize Spark session\n",
    "spark = SparkSession.builder.appName(\"TestModel\").getOrCreate()\n",
    "\n",
    "# Load the trained GBT model\n",
    "model_path = \"fraud_detection_model\"  # Path to the saved model folder\n",
    "model = GBTClassificationModel.load(model_path)"
   ]
  },
  {
   "cell_type": "code",
   "execution_count": 2,
   "id": "f50651a4-07eb-4720-8fc1-ec979cd6b116",
   "metadata": {},
   "outputs": [
    {
     "name": "stdout",
     "output_type": "stream",
     "text": [
      "+-----+---------------------+-----------+--------------------+------------+-----+-----+----+------+----------------+-------------+-----+-----+-------+---------+--------+--------------------+-------------------+--------------------+----------+---------+-----------+--------+----+-----------+--------------+------------------+-----------------+--------------+----------+----------+----------+----------+----------+----------+----------+----------+----------+----------+-----------+-----------+-----------+\n",
      "|  _c0|trans_date_trans_time|     cc_num|            merchant|    category|  amt|first|last|gender|          street|         city|state|  zip|    lat|     long|city_pop|                 job|                dob|           trans_num| unix_time|merch_lat| merch_long|is_fraud|hour|day_of_week|daily_spending|daily_transactions|         distance|category_index|category_0|category_1|category_2|category_3|category_4|category_5|category_6|category_7|category_8|category_9|category_10|category_11|category_12|\n",
      "+-----+---------------------+-----------+--------------------+------------+-----+-----+----+------+----------------+-------------+-----+-----+-------+---------+--------+--------------------+-------------------+--------------------+----------+---------+-----------+--------+----+-----------+--------------+------------------+-----------------+--------------+----------+----------+----------+----------+----------+----------+----------+----------+----------+----------+-----------+-----------+-----------+\n",
      "|18590|  2020-06-27 23:36:27|60416207185|  fraud_Veum-Koelpin|      travel| 4.39| Mary|Diaz|     F|9886 Anita Drive|Fort Washakie|   WY|82514|43.0048|-108.8964|    1645|Information syste...|1986-02-17 00:00:00|07290faa1e1be0c71...|1372376187|43.737679|-108.260865|       0|  23|          7|          4.39|                 1|96.33152031871192|          13.0|       0.0|       0.0|       0.0|       0.0|       0.0|       0.0|       0.0|       0.0|       0.0|       0.0|        0.0|        0.0|        0.0|\n",
      "|31345|  2020-07-01 18:05:37|60416207185|fraud_Jast-McDermott|shopping_pos| 9.33| Mary|Diaz|     F|9886 Anita Drive|Fort Washakie|   WY|82514|43.0048|-108.8964|    1645|Information syste...|1986-02-17 00:00:00|92da8f5a64169076f...|1372701937| 43.53423|-108.039394|       0|  18|          4|          9.33|                 1|  90.995324297606|           3.0|       0.0|       0.0|       0.0|       1.0|       0.0|       0.0|       0.0|       0.0|       0.0|       0.0|        0.0|        0.0|        0.0|\n",
      "|41554|  2020-07-05 21:13:45|60416207185|fraud_Roob, Conn ...|shopping_pos|  3.0| Mary|Diaz|     F|9886 Anita Drive|Fort Washakie|   WY|82514|43.0048|-108.8964|    1645|Information syste...|1986-02-17 00:00:00|6c8bdda678a5cd009...|1373058825|42.104231|-108.623494|       0|  21|          1|           3.0|                 1|102.6031791487097|           3.0|       0.0|       0.0|       0.0|       1.0|       0.0|       0.0|       0.0|       0.0|       0.0|       0.0|        0.0|        0.0|        0.0|\n",
      "|52747|  2020-07-09 12:05:06|60416207185|   fraud_Gerhold LLC|        home|25.04| Mary|Diaz|     F|9886 Anita Drive|Fort Washakie|   WY|82514|43.0048|-108.8964|    1645|Information syste...|1986-02-17 00:00:00|f61477423cae9ac09...|1373371506|42.707776|-107.944226|       0|  12|          5|         25.04|                 1|84.34864729903813|           2.0|       0.0|       0.0|       1.0|       0.0|       0.0|       0.0|       0.0|       0.0|       0.0|       0.0|        0.0|        0.0|        0.0|\n",
      "|78282|  2020-07-18 21:48:41|60416207185|fraud_Turner and ...|shopping_pos| 5.78| Mary|Diaz|     F|9886 Anita Drive|Fort Washakie|   WY|82514|43.0048|-108.8964|    1645|Information syste...|1986-02-17 00:00:00|306b6089f421393af...|1374184121|42.990091|-107.949648|       0|  21|          7|          5.78|                 1|77.01270612365549|           3.0|       0.0|       0.0|       0.0|       1.0|       0.0|       0.0|       0.0|       0.0|       0.0|       0.0|        0.0|        0.0|        0.0|\n",
      "+-----+---------------------+-----------+--------------------+------------+-----+-----+----+------+----------------+-------------+-----+-----+-------+---------+--------+--------------------+-------------------+--------------------+----------+---------+-----------+--------+----+-----------+--------------+------------------+-----------------+--------------+----------+----------+----------+----------+----------+----------+----------+----------+----------+----------+-----------+-----------+-----------+\n",
      "only showing top 5 rows\n",
      "\n"
     ]
    }
   ],
   "source": [
    "# Load the test dataset\n",
    "test_df = spark.read.csv(\"Test_Process_Data.csv\", header=True, inferSchema=True)\n",
    "\n",
    "# Show the dataset\n",
    "test_df.show(5)"
   ]
  },
  {
   "cell_type": "code",
   "execution_count": 3,
   "id": "c2027f3a-64ae-4f0a-b7db-65401e4ece72",
   "metadata": {},
   "outputs": [
    {
     "name": "stdout",
     "output_type": "stream",
     "text": [
      "+-------------------------------------------------------+--------+\n",
      "|features                                               |is_fraud|\n",
      "+-------------------------------------------------------+--------+\n",
      "|(17,[0,1,2,3],[4.39,23.0,7.0,96.33152031871192])       |0       |\n",
      "|(17,[0,1,2,3,7],[9.33,18.0,4.0,90.995324297606,1.0])   |0       |\n",
      "|(17,[0,1,2,3,7],[3.0,21.0,1.0,102.6031791487097,1.0])  |0       |\n",
      "|(17,[0,1,2,3,6],[25.04,12.0,5.0,84.34864729903813,1.0])|0       |\n",
      "|(17,[0,1,2,3,7],[5.78,21.0,7.0,77.01270612365549,1.0]) |0       |\n",
      "+-------------------------------------------------------+--------+\n",
      "only showing top 5 rows\n",
      "\n"
     ]
    }
   ],
   "source": [
    "from pyspark.ml.feature import VectorAssembler\n",
    "\n",
    "# List of feature columns\n",
    "feature_columns = [\n",
    "    \"amt\", \"hour\", \"day_of_week\", \"distance\", \n",
    "    \"category_0\", \"category_1\", \"category_2\", \"category_3\", \n",
    "    \"category_4\", \"category_5\", \"category_6\", \"category_7\", \n",
    "    \"category_8\", \"category_9\", \"category_10\", \"category_11\", \n",
    "    \"category_12\"\n",
    "]\n",
    "\n",
    "# Assemble features into a vector\n",
    "assembler = VectorAssembler(inputCols=feature_columns, outputCol=\"features\")\n",
    "test_df = assembler.transform(test_df)\n",
    "\n",
    "# Show the DataFrame with the new \"features\" column\n",
    "test_df.select(\"features\", \"is_fraud\").show(5, truncate=False)"
   ]
  },
  {
   "cell_type": "code",
   "execution_count": 4,
   "id": "f464036b-5c01-45d2-a7a5-a978800f0d5c",
   "metadata": {},
   "outputs": [
    {
     "name": "stdout",
     "output_type": "stream",
     "text": [
      "+--------+----------+--------------------+\n",
      "|is_fraud|prediction|         probability|\n",
      "+--------+----------+--------------------+\n",
      "|       0|       0.0|[0.88514621284719...|\n",
      "|       0|       0.0|[0.93879369741640...|\n",
      "|       0|       0.0|[0.95449695527846...|\n",
      "|       0|       0.0|[0.95484087950618...|\n",
      "|       0|       0.0|[0.95449695527846...|\n",
      "+--------+----------+--------------------+\n",
      "only showing top 5 rows\n",
      "\n"
     ]
    }
   ],
   "source": [
    "# Make predictions\n",
    "predictions = model.transform(test_df)\n",
    "\n",
    "# Show predictions\n",
    "predictions.select(\"is_fraud\", \"prediction\", \"probability\").show(5)"
   ]
  },
  {
   "cell_type": "code",
   "execution_count": 5,
   "id": "71f6946b-7aa8-400d-8296-92d3a25ea606",
   "metadata": {},
   "outputs": [
    {
     "name": "stdout",
     "output_type": "stream",
     "text": [
      "AUC-ROC: 0.9841213371321361\n"
     ]
    }
   ],
   "source": [
    "from pyspark.ml.evaluation import BinaryClassificationEvaluator\n",
    "\n",
    "# Initialize the evaluator\n",
    "evaluator = BinaryClassificationEvaluator(\n",
    "    labelCol=\"is_fraud\",\n",
    "    rawPredictionCol=\"rawPrediction\",\n",
    "    metricName=\"areaUnderROC\"\n",
    ")\n",
    "\n",
    "# Calculate AUC-ROC\n",
    "auc = evaluator.evaluate(predictions)\n",
    "print(f\"AUC-ROC: {auc}\")"
   ]
  },
  {
   "cell_type": "code",
   "execution_count": 6,
   "id": "defbdc98-75b2-45de-85ab-c480be31cff6",
   "metadata": {},
   "outputs": [
    {
     "name": "stderr",
     "output_type": "stream",
     "text": [
      "/usr/local/spark/python/pyspark/sql/context.py:157: FutureWarning: Deprecated in 3.0.0. Use SparkSession.builder.getOrCreate() instead.\n",
      "  warnings.warn(\n"
     ]
    },
    {
     "name": "stdout",
     "output_type": "stream",
     "text": [
      "Confusion Matrix:\n",
      "[[5.39306e+05 1.42680e+04]\n",
      " [1.80000e+02 1.96500e+03]]\n"
     ]
    }
   ],
   "source": [
    "from pyspark.mllib.evaluation import MulticlassMetrics\n",
    "from pyspark.sql.types import FloatType\n",
    "\n",
    "# Convert predictions to an RDD for MulticlassMetrics\n",
    "prediction_and_labels = predictions.select(\"prediction\", \"is_fraud\").rdd.map(\n",
    "    lambda row: (float(row[\"prediction\"]), float(row[\"is_fraud\"]))\n",
    ")\n",
    "\n",
    "# Calculate metrics\n",
    "metrics = MulticlassMetrics(prediction_and_labels)\n",
    "\n",
    "# Confusion matrix\n",
    "confusion_matrix = metrics.confusionMatrix().toArray()\n",
    "print(f\"Confusion Matrix:\\n{confusion_matrix}\")"
   ]
  },
  {
   "cell_type": "code",
   "execution_count": null,
   "id": "45034e18-4bcb-48d4-8388-e0f44175e76f",
   "metadata": {},
   "outputs": [],
   "source": []
  }
 ],
 "metadata": {
  "kernelspec": {
   "display_name": "Python 3 (ipykernel)",
   "language": "python",
   "name": "python3"
  },
  "language_info": {
   "codemirror_mode": {
    "name": "ipython",
    "version": 3
   },
   "file_extension": ".py",
   "mimetype": "text/x-python",
   "name": "python",
   "nbconvert_exporter": "python",
   "pygments_lexer": "ipython3",
   "version": "3.10.6"
  }
 },
 "nbformat": 4,
 "nbformat_minor": 5
}
