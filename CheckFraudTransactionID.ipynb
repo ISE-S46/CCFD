{
 "cells": [
  {
   "cell_type": "code",
   "execution_count": 1,
   "id": "0f71a5c6-9a4f-4558-afbd-52d9d49082e4",
   "metadata": {},
   "outputs": [
    {
     "name": "stdout",
     "output_type": "stream",
     "text": [
      "Total rows: 555719\n"
     ]
    }
   ],
   "source": [
    "from pyspark.sql import SparkSession\n",
    "\n",
    "spark = SparkSession.builder.appName(\"CheckFraudID\").getOrCreate()\n",
    "\n",
    "df = spark.read.csv(\"fraudTest.csv\", header=True, inferSchema=True)\n",
    "print(f\"Total rows: {df.count()}\")"
   ]
  },
  {
   "cell_type": "code",
   "execution_count": 2,
   "id": "bf5b4580-d44a-428a-8f64-1f3ceb91a2bc",
   "metadata": {},
   "outputs": [
    {
     "name": "stdout",
     "output_type": "stream",
     "text": [
      "+--------+------+\n",
      "|is_fraud| count|\n",
      "+--------+------+\n",
      "|       1|  2145|\n",
      "|       0|553574|\n",
      "+--------+------+\n",
      "\n"
     ]
    }
   ],
   "source": [
    "df.groupBy(\"is_fraud\").count().show()"
   ]
  },
  {
   "cell_type": "code",
   "execution_count": 3,
   "id": "93ba303e-a7c6-4cd8-b131-35025d936cab",
   "metadata": {},
   "outputs": [
    {
     "name": "stdout",
     "output_type": "stream",
     "text": [
      "+----+--------------------+\n",
      "| _c0|           trans_num|\n",
      "+----+--------------------+\n",
      "|1685|16bf2e46c54369a8e...|\n",
      "|1767|ab4b379d2c0c9c667...|\n",
      "|1781|47a9987ae81d99f78...|\n",
      "|1784|fe956c7e4a253c437...|\n",
      "|1857|f6838c01f5d226200...|\n",
      "|1891|0bac42920027f9b7b...|\n",
      "|1906|eb388ceabaf564748...|\n",
      "|1956|aff46f2741b3501d3...|\n",
      "|1968|8cabf98e58e2b29f7...|\n",
      "|2026|1799ffe421a2a05dc...|\n",
      "|2039|720905fa777ec9029...|\n",
      "|2173|5461e8c92d8b6512c...|\n",
      "|2195|219c46c355f98b732...|\n",
      "|2258|7220be6f2a92f9c10...|\n",
      "|2467|2316b3d5045b9dcba...|\n",
      "|2495|d40a602f3d62fc384...|\n",
      "|2506|20ffa4abb3d483d95...|\n",
      "|2650|4ee010ce369915da1...|\n",
      "|5669|d6f6c02b960592010...|\n",
      "|5757|a965da9bc7daef7f5...|\n",
      "+----+--------------------+\n",
      "only showing top 20 rows\n"
     ]
    }
   ],
   "source": [
    "fraudulent_rows = df.filter(df.is_fraud == 1).select(\"_c0\", \"trans_num\")\n",
    "fraudulent_rows.show()"
   ]
  },
  {
   "cell_type": "code",
   "execution_count": 4,
   "id": "5e6ba0ac-a71e-4c78-9c48-31498299a0a0",
   "metadata": {},
   "outputs": [],
   "source": [
    "spark.stop()"
   ]
  }
 ],
 "metadata": {
  "kernelspec": {
   "display_name": "Python 3 (ipykernel)",
   "language": "python",
   "name": "python3"
  },
  "language_info": {
   "codemirror_mode": {
    "name": "ipython",
    "version": 3
   },
   "file_extension": ".py",
   "mimetype": "text/x-python",
   "name": "python",
   "nbconvert_exporter": "python",
   "pygments_lexer": "ipython3",
   "version": "3.12.11"
  }
 },
 "nbformat": 4,
 "nbformat_minor": 5
}
