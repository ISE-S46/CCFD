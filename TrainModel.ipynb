{
 "cells": [
  {
   "cell_type": "code",
   "execution_count": 1,
   "id": "c675cfb6-e0b9-4d00-8b99-190f57865e6e",
   "metadata": {},
   "outputs": [],
   "source": [
    "from pyspark.sql import SparkSession, DataFrame\n",
    "from pyspark.sql.functions import col, when, count, isnan, to_timestamp, hour, dayofweek, countDistinct, sum, to_date, radians, cos, sin, atan2, sqrt, lit, datediff, floor\n",
    "from pyspark.sql.types import DoubleType\n",
    "from pyspark.sql.window import Window\n",
    "from pyspark.ml.feature import StringIndexer, OneHotEncoder, VectorAssembler"
   ]
  },
  {
   "cell_type": "code",
   "execution_count": 2,
   "id": "a1394efe-035d-4ae4-861a-8b8cfecc0f48",
   "metadata": {},
   "outputs": [],
   "source": [
    "spark = SparkSession.builder.appName(\"FraudDetection\").getOrCreate()\n",
    "\n",
    "df = spark.read.csv(\"fraudTrain.csv\", header=True, inferSchema=True)"
   ]
  },
  {
   "cell_type": "code",
   "execution_count": 3,
   "id": "6adb5339-691b-4325-a651-bbf56ab14528",
   "metadata": {},
   "outputs": [
    {
     "name": "stdout",
     "output_type": "stream",
     "text": [
      "root\n",
      " |-- _c0: integer (nullable = true)\n",
      " |-- trans_date_trans_time: timestamp (nullable = true)\n",
      " |-- cc_num: long (nullable = true)\n",
      " |-- merchant: string (nullable = true)\n",
      " |-- category: string (nullable = true)\n",
      " |-- amt: double (nullable = true)\n",
      " |-- first: string (nullable = true)\n",
      " |-- last: string (nullable = true)\n",
      " |-- gender: string (nullable = true)\n",
      " |-- street: string (nullable = true)\n",
      " |-- city: string (nullable = true)\n",
      " |-- state: string (nullable = true)\n",
      " |-- zip: integer (nullable = true)\n",
      " |-- lat: double (nullable = true)\n",
      " |-- long: double (nullable = true)\n",
      " |-- city_pop: integer (nullable = true)\n",
      " |-- job: string (nullable = true)\n",
      " |-- dob: date (nullable = true)\n",
      " |-- trans_num: string (nullable = true)\n",
      " |-- unix_time: integer (nullable = true)\n",
      " |-- merch_lat: double (nullable = true)\n",
      " |-- merch_long: double (nullable = true)\n",
      " |-- is_fraud: integer (nullable = true)\n",
      "\n",
      "+---+---------------------+----------------+--------------------+-------------+------+---------+-------+------+--------------------+--------------+-----+-----+-------+---------+--------+--------------------+----------+--------------------+----------+------------------+-----------+--------+\n",
      "|_c0|trans_date_trans_time|          cc_num|            merchant|     category|   amt|    first|   last|gender|              street|          city|state|  zip|    lat|     long|city_pop|                 job|       dob|           trans_num| unix_time|         merch_lat| merch_long|is_fraud|\n",
      "+---+---------------------+----------------+--------------------+-------------+------+---------+-------+------+--------------------+--------------+-----+-----+-------+---------+--------+--------------------+----------+--------------------+----------+------------------+-----------+--------+\n",
      "|  0|  2019-01-01 00:00:18|2703186189652095|fraud_Rippin, Kub...|     misc_net|  4.97| Jennifer|  Banks|     F|      561 Perry Cove|Moravian Falls|   NC|28654|36.0788| -81.1781|    3495|Psychologist, cou...|1988-03-09|0b242abb623afc578...|1325376018|         36.011293| -82.048315|       0|\n",
      "|  1|  2019-01-01 00:00:44|    630423337322|fraud_Heller, Gut...|  grocery_pos|107.23|Stephanie|   Gill|     F|43039 Riley Green...|        Orient|   WA|99160|48.8878|-118.2105|     149|Special education...|1978-06-21|1f76529f857473494...|1325376044|49.159046999999994|-118.186462|       0|\n",
      "|  2|  2019-01-01 00:00:51|  38859492057661|fraud_Lind-Buckridge|entertainment|220.11|   Edward|Sanchez|     M|594 White Dale Su...|    Malad City|   ID|83252|42.1808| -112.262|    4154|Nature conservati...|1962-01-19|a1a22d70485983eac...|1325376051|         43.150704|-112.154481|       0|\n",
      "|  3|  2019-01-01 00:01:16|3534093764340240|fraud_Kutch, Herm...|gas_transport|  45.0|   Jeremy|  White|     M|9443 Cynthia Cour...|       Boulder|   MT|59632|46.2306|-112.1138|    1939|     Patent attorney|1967-01-12|6b849c168bdad6f86...|1325376076|         47.034331|-112.561071|       0|\n",
      "|  4|  2019-01-01 00:03:06| 375534208663984| fraud_Keeling-Crist|     misc_pos| 41.96|    Tyler| Garcia|     M|    408 Bradley Rest|      Doe Hill|   VA|24433|38.4207| -79.4629|      99|Dance movement ps...|1986-03-28|a41d7549acf907893...|1325376186|         38.674999| -78.632459|       0|\n",
      "+---+---------------------+----------------+--------------------+-------------+------+---------+-------+------+--------------------+--------------+-----+-----+-------+---------+--------+--------------------+----------+--------------------+----------+------------------+-----------+--------+\n",
      "only showing top 5 rows\n"
     ]
    }
   ],
   "source": [
    "# Show dataset structure\n",
    "df.printSchema()\n",
    "df.show(5)"
   ]
  },
  {
   "cell_type": "code",
   "execution_count": 4,
   "id": "23fd17b4-9e01-4ffe-8d31-a5027516c194",
   "metadata": {},
   "outputs": [
    {
     "data": {
      "text/plain": [
       "1296675"
      ]
     },
     "execution_count": 4,
     "metadata": {},
     "output_type": "execute_result"
    }
   ],
   "source": [
    "# Check number or rows\n",
    "df.count()"
   ]
  },
  {
   "cell_type": "code",
   "execution_count": 5,
   "id": "a7b7f8d0-193c-45c7-888b-8dfe4934d20f",
   "metadata": {},
   "outputs": [
    {
     "name": "stdout",
     "output_type": "stream",
     "text": [
      "+---+---------------------+------+--------+--------+---+-----+----+------+------+----+-----+---+---+----+--------+---+---+---------+---------+---------+----------+--------+\n",
      "|_c0|trans_date_trans_time|cc_num|merchant|category|amt|first|last|gender|street|city|state|zip|lat|long|city_pop|job|dob|trans_num|unix_time|merch_lat|merch_long|is_fraud|\n",
      "+---+---------------------+------+--------+--------+---+-----+----+------+------+----+-----+---+---+----+--------+---+---+---------+---------+---------+----------+--------+\n",
      "|  0|                    0|     0|       0|       0|  0|    0|   0|     0|     0|   0|    0|  0|  0|   0|       0|  0|  0|        0|        0|        0|         0|       0|\n",
      "+---+---------------------+------+--------+--------+---+-----+----+------+------+----+-----+---+---+----+--------+---+---+---------+---------+---------+----------+--------+\n",
      "\n"
     ]
    }
   ],
   "source": [
    "# Check missing value\n",
    "df.select([\n",
    "    count(when(col(c).isNull(), c)).alias(c)\n",
    "    for c in df.columns\n",
    "]).show()"
   ]
  },
  {
   "cell_type": "code",
   "execution_count": 6,
   "id": "704cc3a9-4857-46d4-9928-7d3a00cd5601",
   "metadata": {},
   "outputs": [
    {
     "name": "stdout",
     "output_type": "stream",
     "text": [
      "+---------------------+----+-----------+\n",
      "|trans_date_trans_time|hour|day_of_week|\n",
      "+---------------------+----+-----------+\n",
      "|  2019-01-01 00:00:18|   0|          3|\n",
      "|  2019-01-01 00:00:44|   0|          3|\n",
      "|  2019-01-01 00:00:51|   0|          3|\n",
      "|  2019-01-01 00:01:16|   0|          3|\n",
      "|  2019-01-01 00:03:06|   0|          3|\n",
      "+---------------------+----+-----------+\n",
      "only showing top 5 rows\n"
     ]
    }
   ],
   "source": [
    "# Convert transaction date to timestamp\n",
    "df = df.withColumn(\"trans_date_trans_time\", to_timestamp(col(\"trans_date_trans_time\"), \"yyyy-MM-dd HH:mm:ss\"))\n",
    "\n",
    "# Extract time-based features\n",
    "df = df.withColumn(\"hour\", hour(col(\"trans_date_trans_time\")))\n",
    "df = df.withColumn(\"day_of_week\", dayofweek(col(\"trans_date_trans_time\")))\n",
    "\n",
    "df.select(\"trans_date_trans_time\", \"hour\", \"day_of_week\").show(5)"
   ]
  },
  {
   "cell_type": "code",
   "execution_count": 7,
   "id": "fb79b19a-0186-470c-ac1b-523d1ea8232c",
   "metadata": {},
   "outputs": [
    {
     "name": "stdout",
     "output_type": "stream",
     "text": [
      "+-----------+---------------------+-----+--------------+------------------+\n",
      "|     cc_num|trans_date_trans_time|  amt|daily_spending|daily_transactions|\n",
      "+-----------+---------------------+-----+--------------+------------------+\n",
      "|60416207185|  2019-01-17 14:20:15| 6.11|         77.73|                 4|\n",
      "|60416207185|  2019-01-17 19:23:25|62.62|         77.73|                 4|\n",
      "|60416207185|  2019-01-17 19:24:17| 1.84|         77.73|                 4|\n",
      "|60416207185|  2019-01-17 23:34:58| 7.16|         77.73|                 4|\n",
      "|60416207185|  2019-01-18 23:23:44|53.89|         53.89|                 1|\n",
      "|60416207185|  2019-01-20 21:28:25|  3.6|           3.6|                 1|\n",
      "|60416207185|  2019-01-29 12:11:27| 16.2|         72.16|                 3|\n",
      "|60416207185|  2019-01-29 14:55:32|20.22|         72.16|                 3|\n",
      "|60416207185|  2019-01-29 15:05:16|35.74|         72.16|                 3|\n",
      "|60416207185|  2019-02-10 03:13:18|50.77|         50.77|                 1|\n",
      "+-----------+---------------------+-----+--------------+------------------+\n",
      "only showing top 10 rows\n"
     ]
    }
   ],
   "source": [
    "df = df.withColumn(\"trans_date_only\", to_date(col(\"trans_date_trans_time\")))\n",
    "\n",
    "window_spec_daily = Window.partitionBy(\"cc_num\", \"trans_date_only\")\n",
    "\n",
    "# Calculate total daily spending per user and daily transaction count\n",
    "df = df.withColumn(\"daily_spending\", sum(\"amt\").over(window_spec_daily))\n",
    "df = df.withColumn(\"daily_transactions\", count(\"cc_num\").over(window_spec_daily))\n",
    "\n",
    "df = df.drop(\"trans_date_only\")\n",
    "\n",
    "df.select(\"cc_num\", \"trans_date_trans_time\", \"amt\", \"daily_spending\", \"daily_transactions\").show(10)"
   ]
  },
  {
   "cell_type": "code",
   "execution_count": 8,
   "id": "2f028706-fd11-430a-a7a0-e7e79980e4a3",
   "metadata": {},
   "outputs": [
    {
     "name": "stdout",
     "output_type": "stream",
     "text": [
      "+-------+---------+------------------+-----------+------------------+\n",
      "|    lat|     long|         merch_lat| merch_long|          distance|\n",
      "+-------+---------+------------------+-----------+------------------+\n",
      "|36.0788| -81.1781|         36.011293| -82.048315|  78.5975684882306|\n",
      "|48.8878|-118.2105|49.159046999999994|-118.186462|30.212175719210443|\n",
      "|42.1808| -112.262|         43.150704|-112.154481|108.20608258720067|\n",
      "|46.2306|-112.1138|         47.034331|-112.561071| 95.67323113819748|\n",
      "|38.4207| -79.4629|         38.674999| -78.632459|  77.5567436258178|\n",
      "+-------+---------+------------------+-----------+------------------+\n",
      "only showing top 5 rows\n"
     ]
    }
   ],
   "source": [
    "def haversine(lat1, lon1, lat2, lon2):\n",
    "    R = 6371  # Earth radius in km\n",
    "    return 2 * R * atan2(\n",
    "        sqrt(sin((radians(lat2) - radians(lat1)) / 2) ** 2 +\n",
    "             cos(radians(lat1)) * cos(radians(lat2)) *\n",
    "             sin((radians(lon2) - radians(lon1)) / 2) ** 2),\n",
    "        sqrt(1 - (sin((radians(lat2) - radians(lat1)) / 2) ** 2 +\n",
    "                  cos(radians(lat1)) * cos(radians(lat2)) *\n",
    "                  sin((radians(lon2) - radians(lon1)) / 2) ** 2))\n",
    "    )\n",
    "\n",
    "df = df.withColumn(\"distance\", haversine(col(\"lat\"), col(\"long\"), col(\"merch_lat\"), col(\"merch_long\")))\n",
    "\n",
    "df.select(\"lat\", \"long\", \"merch_lat\", \"merch_long\", \"distance\").show(5)"
   ]
  },
  {
   "cell_type": "code",
   "execution_count": 9,
   "id": "0acfdcb7-1be7-48eb-af21-d3f2fdce175b",
   "metadata": {},
   "outputs": [],
   "source": [
    "def encode_categorical_column(df: DataFrame, input_col: str) -> DataFrame:\n",
    "    # Define output column names\n",
    "    indexed_col = f\"{input_col}_index\"\n",
    "    encoded_col = f\"{input_col}_encoded\"\n",
    "\n",
    "    # StringIndexer: Converts string categories to numerical indices\n",
    "    indexer = StringIndexer(inputCol=input_col, outputCol=indexed_col, handleInvalid=\"keep\")\n",
    "    df = indexer.fit(df).transform(df)\n",
    "\n",
    "    # OneHotEncoder: Converts numerical indices to one-hot encoded sparse vectors\n",
    "    encoder = OneHotEncoder(inputCol=indexed_col, outputCol=encoded_col)\n",
    "    df = encoder.fit(df).transform(df)\n",
    "\n",
    "    return df"
   ]
  },
  {
   "cell_type": "code",
   "execution_count": 10,
   "id": "9e7750ee-90ae-4a1b-99df-4a238ca264f3",
   "metadata": {},
   "outputs": [
    {
     "name": "stdout",
     "output_type": "stream",
     "text": [
      "+------------------------+\n",
      "|count(DISTINCT category)|\n",
      "+------------------------+\n",
      "|                      14|\n",
      "+------------------------+\n",
      "\n"
     ]
    }
   ],
   "source": [
    "# Check distinct category\n",
    "df.select(countDistinct(col(\"category\"))).show()"
   ]
  },
  {
   "cell_type": "code",
   "execution_count": 11,
   "id": "701d2f42-e47e-4db0-8f26-c59487af1a13",
   "metadata": {},
   "outputs": [
    {
     "name": "stdout",
     "output_type": "stream",
     "text": [
      "+-------------+--------------+----------------+\n",
      "|     category|category_index|category_encoded|\n",
      "+-------------+--------------+----------------+\n",
      "|     misc_net|          11.0| (14,[11],[1.0])|\n",
      "|  grocery_pos|           1.0|  (14,[1],[1.0])|\n",
      "|entertainment|           6.0|  (14,[6],[1.0])|\n",
      "|gas_transport|           0.0|  (14,[0],[1.0])|\n",
      "|     misc_pos|          10.0| (14,[10],[1.0])|\n",
      "+-------------+--------------+----------------+\n",
      "only showing top 5 rows\n"
     ]
    }
   ],
   "source": [
    "df = encode_categorical_column(df, \"category\")\n",
    "\n",
    "df.select(\"category\", \"category_index\", \"category_encoded\").show(5)"
   ]
  },
  {
   "cell_type": "code",
   "execution_count": 12,
   "id": "9f8b254b-a456-44e1-bc10-55eb9435b633",
   "metadata": {},
   "outputs": [
    {
     "name": "stdout",
     "output_type": "stream",
     "text": [
      "+------+------------+--------------+\n",
      "|gender|gender_index|gender_encoded|\n",
      "+------+------------+--------------+\n",
      "|     F|         0.0| (2,[0],[1.0])|\n",
      "|     F|         0.0| (2,[0],[1.0])|\n",
      "|     M|         1.0| (2,[1],[1.0])|\n",
      "|     M|         1.0| (2,[1],[1.0])|\n",
      "|     M|         1.0| (2,[1],[1.0])|\n",
      "+------+------------+--------------+\n",
      "only showing top 5 rows\n"
     ]
    }
   ],
   "source": [
    "df = encode_categorical_column(df, \"gender\")\n",
    "\n",
    "df.select(\"gender\", \"gender_index\", \"gender_encoded\").show(5)"
   ]
  },
  {
   "cell_type": "code",
   "execution_count": 13,
   "id": "c2f29a64-bed1-4478-9c2c-f876675e192f",
   "metadata": {},
   "outputs": [
    {
     "name": "stdout",
     "output_type": "stream",
     "text": [
      "+------------------------+\n",
      "|count(DISTINCT merchant)|\n",
      "+------------------------+\n",
      "|                     693|\n",
      "+------------------------+\n",
      "\n"
     ]
    }
   ],
   "source": [
    "# Check distinct merchant\n",
    "df.select(countDistinct(col(\"merchant\"))).show()"
   ]
  },
  {
   "cell_type": "code",
   "execution_count": 14,
   "id": "cf5538d7-8e4d-4509-bd3e-0b0edceef847",
   "metadata": {},
   "outputs": [
    {
     "name": "stdout",
     "output_type": "stream",
     "text": [
      "+--------------------+--------------+-----------------+\n",
      "|            merchant|merchant_index| merchant_encoded|\n",
      "+--------------------+--------------+-----------------+\n",
      "|fraud_Rippin, Kub...|         571.0|(693,[571],[1.0])|\n",
      "|fraud_Heller, Gut...|          81.0| (693,[81],[1.0])|\n",
      "|fraud_Lind-Buckridge|         319.0|(693,[319],[1.0])|\n",
      "|fraud_Kutch, Herm...|          40.0| (693,[40],[1.0])|\n",
      "| fraud_Keeling-Crist|         519.0|(693,[519],[1.0])|\n",
      "+--------------------+--------------+-----------------+\n",
      "only showing top 5 rows\n"
     ]
    }
   ],
   "source": [
    "df = encode_categorical_column(df, \"merchant\")\n",
    "\n",
    "df.select(\"merchant\", \"merchant_index\", \"merchant_encoded\").show(5)"
   ]
  },
  {
   "cell_type": "code",
   "execution_count": 15,
   "id": "38b82256-5aa6-44ed-83d8-d8d4a5df8819",
   "metadata": {},
   "outputs": [
    {
     "name": "stdout",
     "output_type": "stream",
     "text": [
      "+--------------------+---------+-----------------+\n",
      "|                 job|job_index|      job_encoded|\n",
      "+--------------------+---------+-----------------+\n",
      "|Psychologist, cou...|    141.0|(494,[141],[1.0])|\n",
      "|Special education...|     61.0| (494,[61],[1.0])|\n",
      "|Nature conservati...|    457.0|(494,[457],[1.0])|\n",
      "|     Patent attorney|    232.0|(494,[232],[1.0])|\n",
      "|Dance movement ps...|    297.0|(494,[297],[1.0])|\n",
      "+--------------------+---------+-----------------+\n",
      "only showing top 5 rows\n"
     ]
    }
   ],
   "source": [
    "df = encode_categorical_column(df, \"job\")\n",
    "\n",
    "df.select(\"job\", \"job_index\", \"job_encoded\").show(5)"
   ]
  },
  {
   "cell_type": "code",
   "execution_count": 16,
   "id": "c9e81390-1187-40c9-aa80-fc18400ad7df",
   "metadata": {},
   "outputs": [
    {
     "name": "stdout",
     "output_type": "stream",
     "text": [
      "+----------+---------------------+---+\n",
      "|       dob|trans_date_trans_time|age|\n",
      "+----------+---------------------+---+\n",
      "|1988-03-09|  2019-01-01 00:00:18| 30|\n",
      "|1978-06-21|  2019-01-01 00:00:44| 40|\n",
      "|1962-01-19|  2019-01-01 00:00:51| 56|\n",
      "|1967-01-12|  2019-01-01 00:01:16| 51|\n",
      "|1986-03-28|  2019-01-01 00:03:06| 32|\n",
      "+----------+---------------------+---+\n",
      "only showing top 5 rows\n"
     ]
    }
   ],
   "source": [
    "df = df.withColumn(\"dob_date\", to_date(col(\"dob\")))\n",
    "df = df.withColumn(\"transaction_date\", to_date(col(\"trans_date_trans_time\")))\n",
    "\n",
    "# Calculate age in years\n",
    "df = df.withColumn(\n",
    "    \"age\",\n",
    "    floor(datediff(col(\"transaction_date\"), col(\"dob_date\")) / 365.25)\n",
    ")\n",
    "\n",
    "df = df.drop(\"dob_date\", \"transaction_date\")\n",
    "\n",
    "df.select(\"dob\", \"trans_date_trans_time\", \"age\").show(5)"
   ]
  },
  {
   "cell_type": "code",
   "execution_count": 17,
   "id": "ef86e51c-c2f7-44c8-9186-48ce7ceb98ef",
   "metadata": {},
   "outputs": [
    {
     "name": "stdout",
     "output_type": "stream",
     "text": [
      "+--------+-------+\n",
      "|is_fraud|  count|\n",
      "+--------+-------+\n",
      "|       1|   7506|\n",
      "|       0|1289169|\n",
      "+--------+-------+\n",
      "\n"
     ]
    }
   ],
   "source": [
    "df.groupBy(\"is_fraud\").count().show()"
   ]
  },
  {
   "cell_type": "code",
   "execution_count": 18,
   "id": "cb2fc73f-21b7-498a-97bc-b4f2f660f82f",
   "metadata": {},
   "outputs": [],
   "source": [
    "# Calculate the weight based on counts for Gradient Boost Tree Model\n",
    "is_fraud = 7506\n",
    "is_not_fraud = 1289169\n",
    "class_weight_for_fraud = is_not_fraud / is_fraud\n",
    "\n",
    "# Add a 'class_weight' column to DataFrame\n",
    "df = df.withColumn(\n",
    "    \"class_weight\",\n",
    "    when(col(\"is_fraud\") == 1, lit(class_weight_for_fraud))\n",
    "    .otherwise(lit(1.0))\n",
    ")"
   ]
  },
  {
   "cell_type": "code",
   "execution_count": 19,
   "id": "a6420b8d-bf4d-4b1e-808d-8d4315d197e4",
   "metadata": {},
   "outputs": [
    {
     "name": "stdout",
     "output_type": "stream",
     "text": [
      "+-----+---------------------+-----------+--------------------+--------------+-----+-----+----+------+----------------+-------------+-----+-----+-------+---------+--------+--------------------+----------+--------------------+----------+------------------+-------------------+--------+----+-----------+--------------+------------------+-----------------+--------------+----------------+------------+--------------+--------------+-----------------+---------+-----------------+---+------------+\n",
      "|  _c0|trans_date_trans_time|     cc_num|            merchant|      category|  amt|first|last|gender|          street|         city|state|  zip|    lat|     long|city_pop|                 job|       dob|           trans_num| unix_time|         merch_lat|         merch_long|is_fraud|hour|day_of_week|daily_spending|daily_transactions|         distance|category_index|category_encoded|gender_index|gender_encoded|merchant_index| merchant_encoded|job_index|      job_encoded|age|class_weight|\n",
      "+-----+---------------------+-----------+--------------------+--------------+-----+-----+----+------+----------------+-------------+-----+-----+-------+---------+--------+--------------------+----------+--------------------+----------+------------------+-------------------+--------+----+-----------+--------------+------------------+-----------------+--------------+----------------+------------+--------------+--------------+-----------------+---------+-----------------+---+------------+\n",
      "|28322|  2019-01-17 14:20:15|60416207185|fraud_Ankunding-C...|        travel| 6.11| Mary|Diaz|     F|9886 Anita Drive|Fort Washakie|   WY|82514|43.0048|-108.8964|    1645|Information syste...|1986-02-17|8773831c65b8b7b9a...|1326810015|         43.722127|-108.36559399999999|       0|  14|          5|         77.73|                 4|90.57243183552535|          13.0| (14,[13],[1.0])|         0.0| (2,[0],[1.0])|         660.0|(693,[660],[1.0])|    295.0|(494,[295],[1.0])| 32|         1.0|\n",
      "|28630|  2019-01-17 19:23:25|60416207185|fraud_Koss, Hanse...|          home|62.62| Mary|Diaz|     F|9886 Anita Drive|Fort Washakie|   WY|82514|43.0048|-108.8964|    1645|Information syste...|1986-02-17|eb2fbed90708f2e7c...|1326828205|         42.868056|        -108.365301|       0|  19|          5|         77.73|                 4|45.83084507585155|           2.0|  (14,[2],[1.0])|         0.0| (2,[0],[1.0])|         175.0|(693,[175],[1.0])|    295.0|(494,[295],[1.0])| 32|         1.0|\n",
      "|28631|  2019-01-17 19:24:17|60416207185|fraud_Nitzsche, K...|  shopping_pos| 1.84| Mary|Diaz|     F|9886 Anita Drive|Fort Washakie|   WY|82514|43.0048|-108.8964|    1645|Information syste...|1986-02-17|8755ece3a44e544c5...|1326828257|         42.222055|-109.30968100000001|       0|  19|          5|         77.73|                 4|93.37668369861947|           3.0|  (14,[3],[1.0])|         0.0| (2,[0],[1.0])|         177.0|(693,[177],[1.0])|    295.0|(494,[295],[1.0])| 32|         1.0|\n",
      "|28894|  2019-01-17 23:34:58|60416207185|fraud_Herman, Tre...|      misc_net| 7.16| Mary|Diaz|     F|9886 Anita Drive|Fort Washakie|   WY|82514|43.0048|-108.8964|    1645|Information syste...|1986-02-17|b28008311eaa47026...|1326843298|43.383866999999995|-109.39321299999999|       0|  23|          5|         77.73|                 4|58.29782343503107|          11.0| (14,[11],[1.0])|         0.0| (2,[0],[1.0])|         556.0|(693,[556],[1.0])|    295.0|(494,[295],[1.0])| 32|         1.0|\n",
      "|30243|  2019-01-18 23:23:44|60416207185|fraud_Swaniawski,...|health_fitness|53.89| Mary|Diaz|     F|9886 Anita Drive|Fort Washakie|   WY|82514|43.0048|-108.8964|    1645|Information syste...|1986-02-17|9816bee0681ef2a14...|1326929024|         43.293413|-108.88128400000001|       0|  23|          6|         53.89|                 1|32.11572167272268|           9.0|  (14,[9],[1.0])|         0.0| (2,[0],[1.0])|         473.0|(693,[473],[1.0])|    295.0|(494,[295],[1.0])| 32|         1.0|\n",
      "+-----+---------------------+-----------+--------------------+--------------+-----+-----+----+------+----------------+-------------+-----+-----+-------+---------+--------+--------------------+----------+--------------------+----------+------------------+-------------------+--------+----+-----------+--------------+------------------+-----------------+--------------+----------------+------------+--------------+--------------+-----------------+---------+-----------------+---+------------+\n",
      "only showing top 5 rows\n"
     ]
    }
   ],
   "source": [
    "df.show(5)"
   ]
  },
  {
   "cell_type": "code",
   "execution_count": 20,
   "id": "1126f9f3-223b-43b7-b22e-1e9f94c802ee",
   "metadata": {},
   "outputs": [],
   "source": [
    "feature_cols = [\n",
    "    \"merchant_encoded\",\n",
    "    \"category_encoded\",\n",
    "    \"amt\",\n",
    "    \"gender_encoded\",\n",
    "    \"lat\",\n",
    "    \"long\",\n",
    "    \"city_pop\",\n",
    "    \"job_encoded\",\n",
    "    \"merch_lat\",\n",
    "    \"merch_long\",\n",
    "    \"hour\",\n",
    "    \"day_of_week\",\n",
    "    \"daily_spending\",\n",
    "    \"daily_transactions\",\n",
    "    \"distance\",\n",
    "    \"age\",\n",
    "]\n",
    "\n",
    "assembler = VectorAssembler(inputCols=feature_cols, outputCol=\"features\")\n",
    "df_final = assembler.transform(df)"
   ]
  },
  {
   "cell_type": "code",
   "execution_count": 21,
   "id": "041880bd-abef-4431-9cba-35ef8e8a228c",
   "metadata": {},
   "outputs": [],
   "source": [
    "df_final = df_final.withColumn(\"indexedLabel\", col(\"is_fraud\").cast(DoubleType()))"
   ]
  },
  {
   "cell_type": "code",
   "execution_count": 22,
   "id": "6bb9f88a-bca1-487e-8ee0-db19eacaec8c",
   "metadata": {},
   "outputs": [
    {
     "name": "stdout",
     "output_type": "stream",
     "text": [
      "+-----+---------------------+-----------+--------------------+--------------+-----+-----+----+------+----------------+-------------+-----+-----+-------+---------+--------+--------------------+----------+--------------------+----------+------------------+-------------------+--------+----+-----------+--------------+------------------+-----------------+--------------+----------------+------------+--------------+--------------+-----------------+---------+-----------------+---+------------+--------------------+------------+\n",
      "|  _c0|trans_date_trans_time|     cc_num|            merchant|      category|  amt|first|last|gender|          street|         city|state|  zip|    lat|     long|city_pop|                 job|       dob|           trans_num| unix_time|         merch_lat|         merch_long|is_fraud|hour|day_of_week|daily_spending|daily_transactions|         distance|category_index|category_encoded|gender_index|gender_encoded|merchant_index| merchant_encoded|job_index|      job_encoded|age|class_weight|            features|indexedLabel|\n",
      "+-----+---------------------+-----------+--------------------+--------------+-----+-----+----+------+----------------+-------------+-----+-----+-------+---------+--------+--------------------+----------+--------------------+----------+------------------+-------------------+--------+----+-----------+--------------+------------------+-----------------+--------------+----------------+------------+--------------+--------------+-----------------+---------+-----------------+---+------------+--------------------+------------+\n",
      "|28322|  2019-01-17 14:20:15|60416207185|fraud_Ankunding-C...|        travel| 6.11| Mary|Diaz|     F|9886 Anita Drive|Fort Washakie|   WY|82514|43.0048|-108.8964|    1645|Information syste...|1986-02-17|8773831c65b8b7b9a...|1326810015|         43.722127|-108.36559399999999|       0|  14|          5|         77.73|                 4|90.57243183552535|          13.0| (14,[13],[1.0])|         0.0| (2,[0],[1.0])|         660.0|(693,[660],[1.0])|    295.0|(494,[295],[1.0])| 32|         1.0|(1215,[660,706,70...|         0.0|\n",
      "|28630|  2019-01-17 19:23:25|60416207185|fraud_Koss, Hanse...|          home|62.62| Mary|Diaz|     F|9886 Anita Drive|Fort Washakie|   WY|82514|43.0048|-108.8964|    1645|Information syste...|1986-02-17|eb2fbed90708f2e7c...|1326828205|         42.868056|        -108.365301|       0|  19|          5|         77.73|                 4|45.83084507585155|           2.0|  (14,[2],[1.0])|         0.0| (2,[0],[1.0])|         175.0|(693,[175],[1.0])|    295.0|(494,[295],[1.0])| 32|         1.0|(1215,[175,695,70...|         0.0|\n",
      "|28631|  2019-01-17 19:24:17|60416207185|fraud_Nitzsche, K...|  shopping_pos| 1.84| Mary|Diaz|     F|9886 Anita Drive|Fort Washakie|   WY|82514|43.0048|-108.8964|    1645|Information syste...|1986-02-17|8755ece3a44e544c5...|1326828257|         42.222055|-109.30968100000001|       0|  19|          5|         77.73|                 4|93.37668369861947|           3.0|  (14,[3],[1.0])|         0.0| (2,[0],[1.0])|         177.0|(693,[177],[1.0])|    295.0|(494,[295],[1.0])| 32|         1.0|(1215,[177,696,70...|         0.0|\n",
      "|28894|  2019-01-17 23:34:58|60416207185|fraud_Herman, Tre...|      misc_net| 7.16| Mary|Diaz|     F|9886 Anita Drive|Fort Washakie|   WY|82514|43.0048|-108.8964|    1645|Information syste...|1986-02-17|b28008311eaa47026...|1326843298|43.383866999999995|-109.39321299999999|       0|  23|          5|         77.73|                 4|58.29782343503107|          11.0| (14,[11],[1.0])|         0.0| (2,[0],[1.0])|         556.0|(693,[556],[1.0])|    295.0|(494,[295],[1.0])| 32|         1.0|(1215,[556,704,70...|         0.0|\n",
      "|30243|  2019-01-18 23:23:44|60416207185|fraud_Swaniawski,...|health_fitness|53.89| Mary|Diaz|     F|9886 Anita Drive|Fort Washakie|   WY|82514|43.0048|-108.8964|    1645|Information syste...|1986-02-17|9816bee0681ef2a14...|1326929024|         43.293413|-108.88128400000001|       0|  23|          6|         53.89|                 1|32.11572167272268|           9.0|  (14,[9],[1.0])|         0.0| (2,[0],[1.0])|         473.0|(693,[473],[1.0])|    295.0|(494,[295],[1.0])| 32|         1.0|(1215,[473,702,70...|         0.0|\n",
      "+-----+---------------------+-----------+--------------------+--------------+-----+-----+----+------+----------------+-------------+-----+-----+-------+---------+--------+--------------------+----------+--------------------+----------+------------------+-------------------+--------+----+-----------+--------------+------------------+-----------------+--------------+----------------+------------+--------------+--------------+-----------------+---------+-----------------+---+------------+--------------------+------------+\n",
      "only showing top 5 rows\n"
     ]
    }
   ],
   "source": [
    "df_final.show(5)"
   ]
  },
  {
   "cell_type": "code",
   "execution_count": 23,
   "id": "6f3a017c-ac35-471b-8e01-90fa34f1617f",
   "metadata": {},
   "outputs": [
    {
     "name": "stdout",
     "output_type": "stream",
     "text": [
      "root\n",
      " |-- _c0: integer (nullable = true)\n",
      " |-- trans_date_trans_time: timestamp (nullable = true)\n",
      " |-- cc_num: long (nullable = true)\n",
      " |-- merchant: string (nullable = true)\n",
      " |-- category: string (nullable = true)\n",
      " |-- amt: double (nullable = true)\n",
      " |-- first: string (nullable = true)\n",
      " |-- last: string (nullable = true)\n",
      " |-- gender: string (nullable = true)\n",
      " |-- street: string (nullable = true)\n",
      " |-- city: string (nullable = true)\n",
      " |-- state: string (nullable = true)\n",
      " |-- zip: integer (nullable = true)\n",
      " |-- lat: double (nullable = true)\n",
      " |-- long: double (nullable = true)\n",
      " |-- city_pop: integer (nullable = true)\n",
      " |-- job: string (nullable = true)\n",
      " |-- dob: date (nullable = true)\n",
      " |-- trans_num: string (nullable = true)\n",
      " |-- unix_time: integer (nullable = true)\n",
      " |-- merch_lat: double (nullable = true)\n",
      " |-- merch_long: double (nullable = true)\n",
      " |-- is_fraud: integer (nullable = true)\n",
      " |-- hour: integer (nullable = true)\n",
      " |-- day_of_week: integer (nullable = true)\n",
      " |-- daily_spending: double (nullable = true)\n",
      " |-- daily_transactions: long (nullable = false)\n",
      " |-- distance: double (nullable = true)\n",
      " |-- category_index: double (nullable = false)\n",
      " |-- category_encoded: vector (nullable = true)\n",
      " |-- gender_index: double (nullable = false)\n",
      " |-- gender_encoded: vector (nullable = true)\n",
      " |-- merchant_index: double (nullable = false)\n",
      " |-- merchant_encoded: vector (nullable = true)\n",
      " |-- job_index: double (nullable = false)\n",
      " |-- job_encoded: vector (nullable = true)\n",
      " |-- age: long (nullable = true)\n",
      " |-- class_weight: double (nullable = false)\n",
      " |-- features: vector (nullable = true)\n",
      " |-- indexedLabel: double (nullable = true)\n",
      "\n"
     ]
    }
   ],
   "source": [
    "df_final.printSchema()"
   ]
  },
  {
   "cell_type": "code",
   "execution_count": 24,
   "id": "f22e256b-8027-4f1e-b9d5-a28477053fb3",
   "metadata": {},
   "outputs": [
    {
     "data": {
      "text/plain": [
       "DataFrame[_c0: int, trans_date_trans_time: timestamp, cc_num: bigint, merchant: string, category: string, amt: double, first: string, last: string, gender: string, street: string, city: string, state: string, zip: int, lat: double, long: double, city_pop: int, job: string, dob: date, trans_num: string, unix_time: int, merch_lat: double, merch_long: double, is_fraud: int, hour: int, day_of_week: int, daily_spending: double, daily_transactions: bigint, distance: double, category_index: double, category_encoded: vector, gender_index: double, gender_encoded: vector, merchant_index: double, merchant_encoded: vector, job_index: double, job_encoded: vector, age: bigint, class_weight: double, features: vector, indexedLabel: double]"
      ]
     },
     "execution_count": 24,
     "metadata": {},
     "output_type": "execute_result"
    }
   ],
   "source": [
    "(trainingData, testData) = df_final.randomSplit([0.8, 0.2], seed=42)\n",
    "trainingData.cache() # Cache for faster iterative training (e.g., hyperparameter tuning)\n",
    "testData.cache()"
   ]
  },
  {
   "cell_type": "markdown",
   "id": "b30c30f2",
   "metadata": {},
   "source": [
    "### LogisticRegression"
   ]
  },
  {
   "cell_type": "code",
   "execution_count": 25,
   "id": "12b2931f",
   "metadata": {},
   "outputs": [
    {
     "name": "stdout",
     "output_type": "stream",
     "text": [
      "\n",
      "Logistic Regression Predictions (first 5 rows):\n",
      "+------------+----------------------------------------+-----------------------------------------+----------+\n",
      "|indexedLabel|rawPrediction                           |probability                              |prediction|\n",
      "+------------+----------------------------------------+-----------------------------------------+----------+\n",
      "|0.0         |[1.0330668493612598,-1.0330668493612598]|[0.7375100363918495,0.26248996360815047] |0.0       |\n",
      "|0.0         |[3.608720512128473,-3.608720512128473]  |[0.9736278472981281,0.026372152701871876]|0.0       |\n",
      "|0.0         |[2.54616843932897,-2.54616843932897]    |[0.9273156849038388,0.07268431509616124] |0.0       |\n",
      "|0.0         |[3.2670706156013827,-3.2670706156013827]|[0.9632816997028799,0.03671830029712009] |0.0       |\n",
      "|0.0         |[2.201779495840918,-2.201779495840918]  |[0.9004091964154171,0.09959080358458294] |0.0       |\n",
      "+------------+----------------------------------------+-----------------------------------------+----------+\n",
      "only showing top 5 rows\n"
     ]
    }
   ],
   "source": [
    "from pyspark.ml.classification import LogisticRegression\n",
    "\n",
    "lr = LogisticRegression(\n",
    "    labelCol=\"indexedLabel\",\n",
    "    featuresCol=\"features\",\n",
    "    weightCol=\"class_weight\",\n",
    "    maxIter=100,\n",
    "    regParam=0.01\n",
    ")\n",
    "\n",
    "lr_model = lr.fit(trainingData)\n",
    "\n",
    "lr_predictions = lr_model.transform(testData)\n",
    "\n",
    "print(\"\\nLogistic Regression Predictions (first 5 rows):\")\n",
    "lr_predictions.select(\"indexedLabel\", \"rawPrediction\", \"probability\", \"prediction\").show(5, False)"
   ]
  },
  {
   "cell_type": "markdown",
   "id": "17ab9ba8",
   "metadata": {},
   "source": [
    "### RandomForest"
   ]
  },
  {
   "cell_type": "code",
   "execution_count": 26,
   "id": "963984c1",
   "metadata": {},
   "outputs": [
    {
     "name": "stdout",
     "output_type": "stream",
     "text": [
      "\n",
      "Random Forest Predictions (first 5 rows):\n",
      "+------------+--------------------------------------+----------------------------------------+----------+\n",
      "|indexedLabel|rawPrediction                         |probability                             |prediction|\n",
      "+------------+--------------------------------------+----------------------------------------+----------+\n",
      "|0.0         |[48.88941174279169,51.110588257208306]|[0.4888941174279169,0.5111058825720831] |1.0       |\n",
      "|0.0         |[68.90732323873907,31.09267676126092] |[0.6890732323873908,0.31092676761260923]|0.0       |\n",
      "|0.0         |[63.85051944614395,36.14948055385606] |[0.6385051944614395,0.36149480553856056]|0.0       |\n",
      "|0.0         |[72.80757996821463,27.192420031785367]|[0.7280757996821463,0.2719242003178537] |0.0       |\n",
      "|0.0         |[61.252220472225446,38.74777952777454]|[0.6125222047222545,0.38747779527774545]|0.0       |\n",
      "+------------+--------------------------------------+----------------------------------------+----------+\n",
      "only showing top 5 rows\n"
     ]
    }
   ],
   "source": [
    "from pyspark.ml.classification import RandomForestClassifier\n",
    "\n",
    "rf = RandomForestClassifier(\n",
    "    labelCol=\"indexedLabel\",\n",
    "    featuresCol=\"features\",\n",
    "    weightCol=\"class_weight\",\n",
    "    numTrees=100,\n",
    "    maxDepth=10\n",
    ")\n",
    "\n",
    "rf_model = rf.fit(trainingData)\n",
    "\n",
    "rf_predictions = rf_model.transform(testData)\n",
    "\n",
    "print(\"\\nRandom Forest Predictions (first 5 rows):\")\n",
    "rf_predictions.select(\"indexedLabel\", \"rawPrediction\", \"probability\", \"prediction\").show(5, False)"
   ]
  },
  {
   "cell_type": "markdown",
   "id": "852c1746",
   "metadata": {},
   "source": [
    "### Gradient Boost Tree (GBT)"
   ]
  },
  {
   "cell_type": "code",
   "execution_count": 27,
   "id": "09191eb1-cf39-4bd8-ac43-3915366054f3",
   "metadata": {},
   "outputs": [
    {
     "name": "stdout",
     "output_type": "stream",
     "text": [
      "\n",
      "Gradient Boost Tree Predictions (first 5 rows):\n",
      "+------------+----------------------------------------+----------------------------------------+----------+\n",
      "|indexedLabel|rawPrediction                           |probability                             |prediction|\n",
      "+------------+----------------------------------------+----------------------------------------+----------+\n",
      "|0.0         |[1.0881283848293455,-1.0881283848293455]|[0.8980970063876447,0.10190299361235533]|0.0       |\n",
      "|0.0         |[1.4922350344582056,-1.4922350344582056]|[0.9518675847180936,0.04813241528190637]|0.0       |\n",
      "|0.0         |[1.5430274772735555,-1.5430274772735555]|[0.956313846600244,0.04368615339975601] |0.0       |\n",
      "|0.0         |[1.5430274772735555,-1.5430274772735555]|[0.956313846600244,0.04368615339975601] |0.0       |\n",
      "|0.0         |[1.3787116232513754,-1.3787116232513754]|[0.9403312204006815,0.05966877959931849]|0.0       |\n",
      "+------------+----------------------------------------+----------------------------------------+----------+\n",
      "only showing top 5 rows\n"
     ]
    }
   ],
   "source": [
    "from pyspark.ml.classification import GBTClassifier\n",
    "\n",
    "gbt = GBTClassifier(\n",
    "    labelCol=\"indexedLabel\",\n",
    "    featuresCol=\"features\",\n",
    "    weightCol=\"class_weight\",\n",
    "    maxDepth=5,\n",
    "    maxIter=20\n",
    ")\n",
    "\n",
    "gbt_model = gbt.fit(trainingData)\n",
    "\n",
    "gbt_predictions = gbt_model.transform(testData)\n",
    "\n",
    "print(\"\\nGradient Boost Tree Predictions (first 5 rows):\")\n",
    "gbt_predictions.select(\"indexedLabel\", \"rawPrediction\", \"probability\", \"prediction\").show(5, False)"
   ]
  },
  {
   "cell_type": "markdown",
   "id": "ca60bb0d-22a4-4ea4-a15c-d439ee42fba3",
   "metadata": {},
   "source": [
    "### Evaluate Models"
   ]
  },
  {
   "cell_type": "code",
   "execution_count": 28,
   "id": "4f23c1b7-e385-4731-b8ef-7d6513268674",
   "metadata": {},
   "outputs": [
    {
     "name": "stdout",
     "output_type": "stream",
     "text": [
      "\n",
      "--- Evaluating Logistic Regression ---\n",
      "Area Under ROC (AUC-ROC): 0.9834\n",
      "Area Under PR (AUC-PR): 0.4918\n",
      "F1 Score (tuned threshold 0.75): 0.9945\n",
      "Precision (tuned threshold 0.75, for positive class 1.0): 0.4721\n",
      "Recall (tuned threshold 0.75, for positive class 1.0): 0.8214\n",
      "\n",
      "--- Evaluating Random Forest Classifier ---\n",
      "Area Under ROC (AUC-ROC): 0.9850\n",
      "Area Under PR (AUC-PR): 0.7294\n",
      "F1 Score (tuned threshold 0.75): 0.9950\n",
      "Precision (tuned threshold 0.75, for positive class 1.0): 0.9715\n",
      "Recall (tuned threshold 0.75, for positive class 1.0): 0.3174\n",
      "\n",
      "--- Evaluating GBT Classifier ---\n",
      "Area Under ROC (AUC-ROC): 0.9974\n",
      "Area Under PR (AUC-PR): 0.8224\n",
      "F1 Score (tuned threshold 0.75): 0.9932\n",
      "Precision (tuned threshold 0.75, for positive class 1.0): 0.4007\n",
      "Recall (tuned threshold 0.75, for positive class 1.0): 0.9668\n"
     ]
    }
   ],
   "source": [
    "from pyspark.ml.evaluation import BinaryClassificationEvaluator, MulticlassClassificationEvaluator\n",
    "from pyspark.sql.functions import udf\n",
    "\n",
    "def evaluate_model_performance(predictions_df, model_name, chosen_threshold=0.5):\n",
    "    print(f\"\\n--- Evaluating {model_name} ---\")\n",
    "\n",
    "    # AUC-ROC\n",
    "    evaluator_roc = BinaryClassificationEvaluator(\n",
    "        labelCol=\"indexedLabel\", rawPredictionCol=\"rawPrediction\", metricName=\"areaUnderROC\"\n",
    "    )\n",
    "    auc_roc = evaluator_roc.evaluate(predictions_df)\n",
    "    print(f\"Area Under ROC (AUC-ROC): {auc_roc:.4f}\")\n",
    "\n",
    "    # AUC-PR\n",
    "    evaluator_pr = BinaryClassificationEvaluator(\n",
    "        labelCol=\"indexedLabel\", rawPredictionCol=\"rawPrediction\", metricName=\"areaUnderPR\"\n",
    "    )\n",
    "    auc_pr = evaluator_pr.evaluate(predictions_df)\n",
    "    print(f\"Area Under PR (AUC-PR): {auc_pr:.4f}\")\n",
    "\n",
    "    # Apply custom threshold for Precision/Recall/F1\n",
    "    predict_at_threshold_udf = udf(lambda prob_vec: 1.0 if prob_vec[1] >= chosen_threshold else 0.0, DoubleType())\n",
    "    predictions_tuned = predictions_df.withColumn(\n",
    "        \"tuned_prediction\",\n",
    "        predict_at_threshold_udf(col(\"probability\"))\n",
    "    )\n",
    "\n",
    "    # F1 Score with tuned threshold\n",
    "    evaluator_f1_tuned = MulticlassClassificationEvaluator(\n",
    "        labelCol=\"indexedLabel\", predictionCol=\"tuned_prediction\", metricName=\"f1\"\n",
    "    )\n",
    "    f1_score_tuned = evaluator_f1_tuned.evaluate(predictions_tuned)\n",
    "    print(f\"F1 Score (tuned threshold {chosen_threshold}): {f1_score_tuned:.4f}\")\n",
    "\n",
    "    # Precision with tuned threshold\n",
    "    evaluator_precision_tuned = MulticlassClassificationEvaluator(\n",
    "        labelCol=\"indexedLabel\", predictionCol=\"tuned_prediction\", metricName=\"precisionByLabel\"\n",
    "    )\n",
    "    precision_tuned = evaluator_precision_tuned.evaluate(predictions_tuned, {evaluator_precision_tuned.metricLabel: 1.0})\n",
    "    print(f\"Precision (tuned threshold {chosen_threshold}, for positive class 1.0): {precision_tuned:.4f}\")\n",
    "\n",
    "    # Recall with tuned threshold\n",
    "    evaluator_recall_tuned = MulticlassClassificationEvaluator(\n",
    "        labelCol=\"indexedLabel\", predictionCol=\"tuned_prediction\", metricName=\"recallByLabel\"\n",
    "    )\n",
    "    recall_tuned = evaluator_recall_tuned.evaluate(predictions_tuned, {evaluator_recall_tuned.metricLabel: 1.0})\n",
    "    print(f\"Recall (tuned threshold {chosen_threshold}, for positive class 1.0): {recall_tuned:.4f}\")\n",
    "\n",
    "\n",
    "chosen_threshold_for_eval = 0.75\n",
    "\n",
    "evaluate_model_performance(lr_predictions, \"Logistic Regression\", chosen_threshold=chosen_threshold_for_eval)\n",
    "evaluate_model_performance(rf_predictions, \"Random Forest Classifier\", chosen_threshold=chosen_threshold_for_eval)\n",
    "evaluate_model_performance(gbt_predictions, \"GBT Classifier\", chosen_threshold=chosen_threshold_for_eval)"
   ]
  }
 ],
 "metadata": {
  "kernelspec": {
   "display_name": "Python 3 (ipykernel)",
   "language": "python",
   "name": "python3"
  },
  "language_info": {
   "codemirror_mode": {
    "name": "ipython",
    "version": 3
   },
   "file_extension": ".py",
   "mimetype": "text/x-python",
   "name": "python",
   "nbconvert_exporter": "python",
   "pygments_lexer": "ipython3",
   "version": "3.12.11"
  }
 },
 "nbformat": 4,
 "nbformat_minor": 5
}
