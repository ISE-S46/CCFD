{
 "cells": [
  {
   "cell_type": "code",
   "execution_count": 1,
   "id": "2d67ff30-a1bd-476e-af31-0bc3569d5e06",
   "metadata": {},
   "outputs": [
    {
     "name": "stdout",
     "output_type": "stream",
     "text": [
      "+------+---------------------+-----------+--------------------+-------------+-------+-------+------+------+--------------------+-------------+-----+-----+-------+---------+--------+--------------------+-------------------+--------------------+----------+------------------+-------------------+--------+----+-----------+--------------+------------------+------------------+--------------+----------+----------+----------+----------+----------+----------+----------+----------+----------+----------+-----------+-----------+-----------+\n",
      "|   _c0|trans_date_trans_time|     cc_num|            merchant|     category|    amt|  first|  last|gender|              street|         city|state|  zip|    lat|     long|city_pop|                 job|                dob|           trans_num| unix_time|         merch_lat|         merch_long|is_fraud|hour|day_of_week|daily_spending|daily_transactions|          distance|category_index|category_0|category_1|category_2|category_3|category_4|category_5|category_6|category_7|category_8|category_9|category_10|category_11|category_12|\n",
      "+------+---------------------+-----------+--------------------+-------------+-------+-------+------+------+--------------------+-------------+-----+-----+-------+---------+--------+--------------------+-------------------+--------------------+----------+------------------+-------------------+--------+----+-----------+--------------+------------------+------------------+--------------+----------+----------+----------+----------+----------+----------+----------+----------+----------+----------+-----------+-----------+-----------+\n",
      "|106760|  2019-03-02 23:11:08|60416207185|  fraud_Parker-Kunde|personal_care|  20.41|   Mary|  Diaz|     F|    9886 Anita Drive|Fort Washakie|   WY|82514|43.0048|-108.8964|    1645|Information syste...|1986-02-17 00:00:00|293c908b5276ad02a...|1330729868|         42.132393|-109.69481999999999|       1|  23|          7|         20.41|                 1|116.98342957838344|           8.0|       0.0|       0.0|       0.0|       0.0|       0.0|       0.0|       0.0|       0.0|       1.0|       0.0|        0.0|        0.0|        0.0|\n",
      "|106835|  2019-03-02 23:43:40|60416207185|   fraud_Berge-Hills|    kids_pets|  19.23|   Mary|  Diaz|     F|    9886 Anita Drive|Fort Washakie|   WY|82514|43.0048|-108.8964|    1645|Information syste...|1986-02-17 00:00:00|2285e041091c98cf8...|1330731820|42.995377000000005|        -109.128294|       1|  23|          7|         19.23|                 1|18.887326963782808|           4.0|       0.0|       0.0|       0.0|       0.0|       1.0|       0.0|       0.0|       0.0|       0.0|       0.0|        0.0|        0.0|        0.0|\n",
      "|212856|  2019-04-18 22:07:52|60422928733|fraud_Reichert, H...| shopping_net| 877.57|Jeffrey|Powers|     M|38352 Parrish Roa...|North Augusta|   SC|29860|33.6028| -81.9748|   46944|Secondary school ...|1942-04-02 00:00:00|5a6877b96c2410132...|1334786872|34.106508000000005|         -81.443896|       1|  22|          5|        877.57|                 1| 74.43446018543847|           5.0|       0.0|       0.0|       0.0|       0.0|       0.0|       1.0|       0.0|       0.0|       0.0|       0.0|        0.0|        0.0|        0.0|\n",
      "|132278|  2019-03-14 02:21:34|60423098130|   fraud_Bradtke PLC|  grocery_pos| 317.39|  Jason|  Gray|     M|       875 Amy Point|      Amorita|   OK|73719|36.9412| -98.2458|      83|   Barrister's clerk|1958-07-28 00:00:00|bdd9d9fb1630059e6...|1331691694|         37.475705|         -98.333904|       1|   2|          5|        317.39|                 1| 59.94420126750621|           1.0|       0.0|       1.0|       0.0|       0.0|       0.0|       0.0|       0.0|       0.0|       0.0|       0.0|        0.0|        0.0|        0.0|\n",
      "|133835|  2019-03-14 22:37:32|60423098130|fraud_Greenholt, ...| shopping_net|1042.06|  Jason|  Gray|     M|       875 Amy Point|      Amorita|   OK|73719|36.9412| -98.2458|      83|   Barrister's clerk|1958-07-28 00:00:00|b62e92b920e75a7c3...|1331764652|36.255976000000004|         -98.304663|       1|  22|          5|       1042.06|                 1| 76.37441112979597|           5.0|       0.0|       0.0|       0.0|       0.0|       0.0|       1.0|       0.0|       0.0|       0.0|       0.0|        0.0|        0.0|        0.0|\n",
      "+------+---------------------+-----------+--------------------+-------------+-------+-------+------+------+--------------------+-------------+-----+-----+-------+---------+--------+--------------------+-------------------+--------------------+----------+------------------+-------------------+--------+----+-----------+--------------+------------------+------------------+--------------+----------+----------+----------+----------+----------+----------+----------+----------+----------+----------+-----------+-----------+-----------+\n",
      "only showing top 5 rows\n",
      "\n"
     ]
    }
   ],
   "source": [
    "from pyspark.sql import SparkSession\n",
    "\n",
    "# Initialize Spark session\n",
    "spark = SparkSession.builder.appName(\"FraudDetectionTraining\").getOrCreate()\n",
    "\n",
    "# Load the preprocessed training data\n",
    "df = spark.read.csv(\"Train_Process_Data.csv\", header=True, inferSchema=True)\n",
    "\n",
    "# Show the dataset\n",
    "df.show(5)"
   ]
  },
  {
   "cell_type": "code",
   "execution_count": 2,
   "id": "1b436af6-814f-4542-b0e6-78392b505991",
   "metadata": {},
   "outputs": [
    {
     "name": "stdout",
     "output_type": "stream",
     "text": [
      "+---------------------------------------------------------+--------+\n",
      "|features                                                 |is_fraud|\n",
      "+---------------------------------------------------------+--------+\n",
      "|(17,[0,1,2,3,12],[20.41,23.0,7.0,116.98342957838344,1.0])|1       |\n",
      "|(17,[0,1,2,3,8],[19.23,23.0,7.0,18.887326963782808,1.0]) |1       |\n",
      "|(17,[0,1,2,3,9],[877.57,22.0,5.0,74.43446018543847,1.0]) |1       |\n",
      "|(17,[0,1,2,3,5],[317.39,2.0,5.0,59.94420126750621,1.0])  |1       |\n",
      "|(17,[0,1,2,3,9],[1042.06,22.0,5.0,76.37441112979597,1.0])|1       |\n",
      "+---------------------------------------------------------+--------+\n",
      "only showing top 5 rows\n",
      "\n"
     ]
    }
   ],
   "source": [
    "from pyspark.ml.feature import VectorAssembler\n",
    "\n",
    "# List of feature columns\n",
    "feature_columns = [\n",
    "    \"amt\", \"hour\", \"day_of_week\", \"distance\", \n",
    "    \"category_0\", \"category_1\", \"category_2\", \"category_3\", \n",
    "    \"category_4\", \"category_5\", \"category_6\", \"category_7\", \n",
    "    \"category_8\", \"category_9\", \"category_10\", \"category_11\", \n",
    "    \"category_12\"\n",
    "]\n",
    "\n",
    "# Assemble features into a vector\n",
    "assembler = VectorAssembler(inputCols=feature_columns, outputCol=\"features\")\n",
    "df = assembler.transform(df)\n",
    "\n",
    "# Show the DataFrame with the new \"features\" column\n",
    "df.select(\"features\", \"is_fraud\").show(5, truncate=False)"
   ]
  },
  {
   "cell_type": "code",
   "execution_count": 3,
   "id": "4b0094fe-a346-4607-8cef-dca62579a83d",
   "metadata": {},
   "outputs": [
    {
     "name": "stdout",
     "output_type": "stream",
     "text": [
      "Training set count: 20141\n",
      "Testing set count: 4910\n"
     ]
    }
   ],
   "source": [
    "# Split the data into training (80%) and testing (20%) sets\n",
    "train_df, test_df = df.randomSplit([0.8, 0.2], seed=42)\n",
    "\n",
    "print(f\"Training set count: {train_df.count()}\")\n",
    "print(f\"Testing set count: {test_df.count()}\")"
   ]
  },
  {
   "cell_type": "code",
   "execution_count": 4,
   "id": "f371884c-ff73-43ed-a92f-2858b87d52ef",
   "metadata": {},
   "outputs": [
    {
     "name": "stdout",
     "output_type": "stream",
     "text": [
      "+--------+----------+--------------------+\n",
      "|is_fraud|prediction|         probability|\n",
      "+--------+----------+--------------------+\n",
      "|       0|       0.0|[0.92374855301772...|\n",
      "|       0|       0.0|[0.96136278172699...|\n",
      "|       0|       0.0|[0.96150760843079...|\n",
      "|       1|       0.0|[0.83634179460630...|\n",
      "|       1|       0.0|[0.83099748428856...|\n",
      "+--------+----------+--------------------+\n",
      "only showing top 5 rows\n",
      "\n"
     ]
    }
   ],
   "source": [
    "#Train with logistic Regression\n",
    "from pyspark.ml.classification import LogisticRegression\n",
    "\n",
    "# Initialize the Logistic Regression model\n",
    "lr = LogisticRegression(featuresCol=\"features\", labelCol=\"is_fraud\")\n",
    "\n",
    "# Train the model\n",
    "model = lr.fit(train_df)\n",
    "\n",
    "# Make predictions on the test set\n",
    "predictions = model.transform(test_df)\n",
    "\n",
    "# Show predictions\n",
    "predictions.select(\"is_fraud\", \"prediction\", \"probability\").show(5)"
   ]
  },
  {
   "cell_type": "code",
   "execution_count": 5,
   "id": "65e2171a-9171-46fc-aebe-b04b72fbfe32",
   "metadata": {},
   "outputs": [
    {
     "name": "stdout",
     "output_type": "stream",
     "text": [
      "+--------+----------+--------------------+\n",
      "|is_fraud|prediction|         probability|\n",
      "+--------+----------+--------------------+\n",
      "|       0|       0.0|[0.93202960854054...|\n",
      "|       0|       0.0|[0.92667713738301...|\n",
      "|       0|       0.0|[0.75711825144993...|\n",
      "|       1|       0.0|[0.65372378593618...|\n",
      "|       1|       0.0|[0.61721859562477...|\n",
      "+--------+----------+--------------------+\n",
      "only showing top 5 rows\n",
      "\n"
     ]
    }
   ],
   "source": [
    "#Train with RandomForest\n",
    "from pyspark.ml.classification import RandomForestClassifier\n",
    "\n",
    "# Initialize the Random Forest model\n",
    "rf = RandomForestClassifier(featuresCol=\"features\", labelCol=\"is_fraud\")\n",
    "\n",
    "# Train the model\n",
    "rf_model = rf.fit(train_df)\n",
    "\n",
    "# Make predictions\n",
    "rf_predictions = rf_model.transform(test_df)\n",
    "\n",
    "# Show predictions\n",
    "rf_predictions.select(\"is_fraud\", \"prediction\", \"probability\").show(5)"
   ]
  },
  {
   "cell_type": "code",
   "execution_count": 6,
   "id": "ef5a17dd-f4fc-4958-81a4-758492cd71b4",
   "metadata": {},
   "outputs": [
    {
     "name": "stdout",
     "output_type": "stream",
     "text": [
      "+--------+----------+--------------------+\n",
      "|is_fraud|prediction|         probability|\n",
      "+--------+----------+--------------------+\n",
      "|       0|       0.0|[0.95484087950618...|\n",
      "|       0|       0.0|[0.95484087950618...|\n",
      "|       0|       0.0|[0.93569677559213...|\n",
      "|       1|       1.0|[0.05135804435962...|\n",
      "|       1|       1.0|[0.05314662713574...|\n",
      "+--------+----------+--------------------+\n",
      "only showing top 5 rows\n",
      "\n"
     ]
    }
   ],
   "source": [
    "#Train with Gradient Boosted Trees \n",
    "from pyspark.ml.classification import GBTClassifier\n",
    "\n",
    "# Initialize the GBT model\n",
    "gbt = GBTClassifier(featuresCol=\"features\", labelCol=\"is_fraud\")\n",
    "\n",
    "# Train the model\n",
    "gbt_model = gbt.fit(train_df)\n",
    "\n",
    "# Make predictions\n",
    "gbt_predictions = gbt_model.transform(test_df)\n",
    "\n",
    "# Show predictions\n",
    "gbt_predictions.select(\"is_fraud\", \"prediction\", \"probability\").show(5)"
   ]
  },
  {
   "cell_type": "code",
   "execution_count": 7,
   "id": "0605882a-a3b4-40bc-ac7c-35ad7c744e60",
   "metadata": {},
   "outputs": [
    {
     "name": "stdout",
     "output_type": "stream",
     "text": [
      "AUC-ROC LogisticRegression: 0.8997612205023143\n",
      "AUC-ROC RandomForest: 0.970529879448365\n",
      "AUC-ROC GradientBoostedTrees : 0.9910664180071832\n"
     ]
    }
   ],
   "source": [
    "from pyspark.ml.evaluation import BinaryClassificationEvaluator\n",
    "\n",
    "# Initialize the evaluator\n",
    "evaluator = BinaryClassificationEvaluator(\n",
    "    labelCol=\"is_fraud\", \n",
    "    rawPredictionCol=\"rawPrediction\", \n",
    "    metricName=\"areaUnderROC\"\n",
    ")\n",
    "\n",
    "# Calculate AUC-ROC\n",
    "LRauc = evaluator.evaluate(predictions)\n",
    "print(f\"AUC-ROC LogisticRegression: {LRauc}\")\n",
    "RFauc = evaluator.evaluate(rf_predictions)\n",
    "print(f\"AUC-ROC RandomForest: {RFauc}\")\n",
    "GBTauc = evaluator.evaluate(gbt_predictions)\n",
    "print(f\"AUC-ROC GradientBoostedTrees : {GBTauc}\")"
   ]
  },
  {
   "cell_type": "code",
   "execution_count": 10,
   "id": "19f467b5-a041-4442-8d3c-e25fce019ab0",
   "metadata": {},
   "outputs": [
    {
     "name": "stdout",
     "output_type": "stream",
     "text": [
      "Logistic Regression Confusion Matrix:\n",
      "[[3377.   61.]\n",
      " [ 400. 1072.]]\n"
     ]
    }
   ],
   "source": [
    "from pyspark.mllib.evaluation import MulticlassMetrics\n",
    "from pyspark.sql.types import FloatType\n",
    "\n",
    "# Convert predictions to an RDD for MulticlassMetrics\n",
    "prediction_and_labels = predictions.select(\"prediction\", \"is_fraud\").rdd.map(lambda row: (float(row[\"prediction\"]), float(row[\"is_fraud\"])))\n",
    "\n",
    "# Calculate metrics\n",
    "metrics = MulticlassMetrics(prediction_and_labels)\n",
    "\n",
    "# Confusion matrix LogisticRegression\n",
    "confusion_matrix = metrics.confusionMatrix().toArray()\n",
    "print(f\"Logistic Regression Confusion Matrix:\\n{confusion_matrix}\")"
   ]
  },
  {
   "cell_type": "code",
   "execution_count": 11,
   "id": "21e5770d-e88d-404a-91d0-22051d2b1c36",
   "metadata": {},
   "outputs": [
    {
     "name": "stdout",
     "output_type": "stream",
     "text": [
      "Random Forest Confusion Matrix:\n",
      "[[3359.   79.]\n",
      " [ 363. 1109.]]\n"
     ]
    }
   ],
   "source": [
    "from pyspark.mllib.evaluation import MulticlassMetrics\n",
    "from pyspark.sql.types import FloatType\n",
    "\n",
    "# Convert predictions to an RDD for MulticlassMetrics\n",
    "rf_prediction_and_labels = rf_predictions.select(\"prediction\", \"is_fraud\").rdd.map(\n",
    "    lambda row: (float(row[\"prediction\"]), float(row[\"is_fraud\"]))\n",
    ")\n",
    "\n",
    "# Calculate metrics\n",
    "rf_metrics = MulticlassMetrics(rf_prediction_and_labels)\n",
    "\n",
    "# Confusion matrix RandomForest\n",
    "rf_confusion_matrix = rf_metrics.confusionMatrix().toArray()\n",
    "print(f\"Random Forest Confusion Matrix:\\n{rf_confusion_matrix}\")"
   ]
  },
  {
   "cell_type": "code",
   "execution_count": 12,
   "id": "0a0dcaad-91a9-4ff1-8139-e91d30f1407e",
   "metadata": {},
   "outputs": [
    {
     "name": "stdout",
     "output_type": "stream",
     "text": [
      "Gradient Boosted Trees Confusion Matrix:\n",
      "[[3350.   88.]\n",
      " [ 101. 1371.]]\n"
     ]
    }
   ],
   "source": [
    "# Convert predictions to an RDD for MulticlassMetrics\n",
    "gbt_prediction_and_labels = gbt_predictions.select(\"prediction\", \"is_fraud\").rdd.map(\n",
    "    lambda row: (float(row[\"prediction\"]), float(row[\"is_fraud\"]))\n",
    ")\n",
    "\n",
    "# Calculate metrics\n",
    "gbt_metrics = MulticlassMetrics(gbt_prediction_and_labels)\n",
    "\n",
    "# Confusion matrix Gradient Boosted Trees\n",
    "gbt_confusion_matrix = gbt_metrics.confusionMatrix().toArray()\n",
    "print(f\"Gradient Boosted Trees Confusion Matrix:\\n{gbt_confusion_matrix}\")"
   ]
  },
  {
   "cell_type": "code",
   "execution_count": 16,
   "id": "0d397bbb-14f9-4d02-b4af-d2e48bef8194",
   "metadata": {},
   "outputs": [],
   "source": [
    "# Gradient Boosted Trees have the best AUC-ROC score and least false positive, false negative\n",
    "# Save the Gradient Boosted Trees model\n",
    "gbt_model.save(\"fraud_detection_model\")"
   ]
  }
 ],
 "metadata": {
  "kernelspec": {
   "display_name": "Python 3 (ipykernel)",
   "language": "python",
   "name": "python3"
  },
  "language_info": {
   "codemirror_mode": {
    "name": "ipython",
    "version": 3
   },
   "file_extension": ".py",
   "mimetype": "text/x-python",
   "name": "python",
   "nbconvert_exporter": "python",
   "pygments_lexer": "ipython3",
   "version": "3.10.6"
  }
 },
 "nbformat": 4,
 "nbformat_minor": 5
}
